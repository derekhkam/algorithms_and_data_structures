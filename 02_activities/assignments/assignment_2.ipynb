{
 "cells": [
  {
   "cell_type": "markdown",
   "metadata": {},
   "source": [
    "# Practice Interview\n",
    "\n",
    "## Objective\n",
    "\n",
    "_*The partner assignment aims to provide participants with the opportunity to practice coding in an interview context. You will analyze your partner's Assignment 1. Moreover, code reviews are common practice in a software development team. This assignment should give you a taste of the code review process.*_\n",
    "\n",
    "## Group Size\n",
    "\n",
    "Each group should have 2 people. You will be assigned a partner\n",
    "\n",
    "## Part 1:\n",
    "\n",
    "You and your partner must share each other's Assignment 1 submission."
   ]
  },
  {
   "cell_type": "markdown",
   "metadata": {},
   "source": [
    "\n",
    "## Part 2:\n",
    "\n",
    "Create a Jupyter Notebook, create 6 of the following headings, and complete the following for your partner's assignment 1:\n",
    "\n",
    "-   Paraphrase the problem in your own words.\n"
   ]
  },
  {
   "cell_type": "markdown",
   "metadata": {},
   "source": [
    "Question 3 is about checking whether a given list of integers contains all of the possible integers within a given range. Specifically, the list contains a maximum of n number of integers, and the given range is 0 to n, and the list may contain duplicates.\n",
    "\n",
    "Use cases may include checking whether a patient's hospital admission records contains reports on a daily basis, or whether a travel itinerary meets the required order of stops. "
   ]
  },
  {
   "cell_type": "markdown",
   "metadata": {},
   "source": [
    "\n",
    "-   Create 1 new example that demonstrates you understand the problem. Trace/walkthrough 1 example that your partner made and explain it.\n"
   ]
  },
  {
   "cell_type": "code",
   "execution_count": 4,
   "metadata": {},
   "outputs": [
    {
     "data": {
      "text/plain": [
       "13"
      ]
     },
     "execution_count": 4,
     "metadata": {},
     "output_type": "execute_result"
    }
   ],
   "source": [
    "lst_4 = [13,1,8,8,5,2,2,2]\n",
    "max(lst_4)"
   ]
  },
  {
   "cell_type": "markdown",
   "metadata": {},
   "source": [
    "Create a new example:\n",
    "\n",
    "new_ex = [0,0,3,9,7]\n",
    "\n",
    "The range to check is given by 0 and max(new_ex) which is 9\n",
    "\n",
    "The function will check whether new_ex contains all of the integers given by list(range(0,9+1)), which are:\n",
    "\n",
    "[0,1,2,3,4,5,6,7,8,9]\n",
    "\n",
    "Note that alternatively, using list(range(0,9)) would work too, which gives only [0,1,2,3,4,5,6,7,8], because the integer 9 is already given by the list and needs not be checked.\n",
    "\n",
    "The following elements are missing and should be returned by the function:\n",
    "\n",
    "[1,2,4,5,6,8]"
   ]
  },
  {
   "cell_type": "markdown",
   "metadata": {},
   "source": [
    "Partner's example:\n",
    "\n",
    "lst_4 = [13,1,8,8,5,2,2,2]\n",
    "\n",
    "The range to check is given by 0 and max(list_4) which is 13.\n",
    "\n",
    "The function will check whether lst_4 contains all of the following integers:\n",
    "\n",
    "[0,1,2,3,4,5,6,7,8,9,10,11,12,13]\n",
    "\n",
    "By eyeballing, the following elements are missing, and should be returned by the function:\n",
    "\n",
    "[0,3,4,6,7,9,10,11,12]."
   ]
  },
  {
   "cell_type": "code",
   "execution_count": 5,
   "metadata": {},
   "outputs": [],
   "source": [
    "#Partner's solution:\n",
    "def missing_num(nums: list):    \n",
    "    maximum = max(nums) # O(m)\n",
    "    set_from_list = set(nums) #O(m)\n",
    "    set_from_range = set(range(0,maximum)) #O(n)\n",
    "    diff = set_from_range - set_from_list #O(n)\n",
    "    if len(diff)>0: #O(n)\n",
    "        return list(diff)\n",
    "    else:\n",
    "        return -1"
   ]
  },
  {
   "cell_type": "code",
   "execution_count": 6,
   "metadata": {},
   "outputs": [
    {
     "data": {
      "text/plain": [
       "[1, 2, 4, 5, 6, 8]"
      ]
     },
     "execution_count": 6,
     "metadata": {},
     "output_type": "execute_result"
    }
   ],
   "source": [
    "missing_num([0,0,3,9,7])"
   ]
  },
  {
   "cell_type": "markdown",
   "metadata": {},
   "source": [
    "\n",
    "-   Explain why their solution works in your own words.\n",
    "\n",
    "The solution works using Python's built-in function that finds the difference of a set B from a given set A.\n",
    "\n",
    "In this case, the given set A is the range of integers between 0 and n, which is called \"set(range(0,max(nums)))\" in the code, and the other set B is the set of integers provided, which is \"set(nums)\". When one subtracts set B from set A, Python returns those elements that are in set A but not in set B.\n"
   ]
  },
  {
   "cell_type": "markdown",
   "metadata": {},
   "source": [
    "\n",
    "-   Explain the problem’s time and space complexity in your own words.\n",
    "\n",
    "The time complexity of the solution is O(1), because the code contains a single step that operates on a list of n integers, but practically (or worse case) is O(n) because even with sets, Python is essentially performing operations on n integers on the backend.\n",
    "\n",
    "The space complexity is O(2n), or more simply O(n), because the code needs to handle two sets of n integers at once."
   ]
  },
  {
   "cell_type": "markdown",
   "metadata": {},
   "source": [
    "\n",
    "-   Critique your partner's solution, including explanation, and if there is anything that should be adjusted.\n",
    "\n",
    "The solution is sensible and works well; a minor adjustment to the code is to sort the output list of missing numbers ascendingly, as illustrated in the original question, e.g. by using sorted(list(diff)).\n",
    "\n",
    "Other than that, I have two suggestions. First, because numpy is implemented at a lower programming level compared with Python's standard set functions, using numpy, specifically np.setdiff1d(), might result in a faster execution. Second, the code may be made more flexible and with less lines by using a recursive function. This will include a base case for stopping where start > end of the given range, checking that \"start\" exists in the given list (if not, append \"start\" to the return list), and recurse at start + 1. This will however increase the time complexity to O(n), i.e. n number of steps during recursion, and worse case to O(n^2), with the backend list operations.\n",
    "\n"
   ]
  },
  {
   "cell_type": "markdown",
   "metadata": {},
   "source": [
    "\n",
    "## Part 3:\n",
    "\n",
    "Please write a 200 word reflection documenting your process from assignment 1, and your presentation and review experience with your partner at the bottom of the Jupyter Notebook under a new heading \"Reflection.\" Again, export this Notebook as pdf.\n"
   ]
  },
  {
   "cell_type": "markdown",
   "metadata": {},
   "source": [
    "### Reflection"
   ]
  },
  {
   "cell_type": "markdown",
   "metadata": {},
   "source": [
    "Although I started looking at Q2 from a mathematical point of view, i.e. trying to exhaust the possible paths, I gradually realized that rather than using an algebraic formula that iterates over the possibilities, it would be easier to trace all the paths from nodes to nodes. At that point, I determined that the after defining a node object, the next step is to define a function to convert any list to a binary tree. Using a recursive defining structure, I followed the logic of preorder traversal (which can be used to copy trees). The difficult part, where I had to trial-and-error for quite many times, was to create one list for each path. The final solution I found was to create a shallow copy at each branching.\n",
    "\n",
    "In terms of reviewing my partner’s answer to A3, I very much appreciated the simplicity with which she approached the problem. The main algorithm is a subtraction of two sets and the code is very clean overall. Therefore, I thought in the direction of alternative approaches that could improve performance and flexibility. For performance, using numpy, which operates at a lower level than Python, might help to improve speed. For flexibility, the code could in fact be written recursively, by comparing each integer with a numpy array. While increasing time complexity, this approach may be useful in case further steps or requirements are to be included. "
   ]
  },
  {
   "cell_type": "markdown",
   "metadata": {},
   "source": [
    "\n",
    "## Evaluation Criteria\n",
    "\n",
    "We are looking for the similar points as Assignment 1\n",
    "\n",
    "-   Problem is accurately stated\n",
    "\n",
    "-   New example is correct and easily understandable\n",
    "\n",
    "-   Correctness, time, and space complexity of the coding solution\n",
    "\n",
    "-   Clarity in explaining why the solution works, its time and space complexity\n",
    "\n",
    "-   Quality of critique of your partner's assignment, if necessary\n"
   ]
  },
  {
   "cell_type": "markdown",
   "metadata": {},
   "source": [
    "## Submission Information\n",
    "\n",
    "🚨 **Please review our [Assignment Submission Guide](https://github.com/UofT-DSI/onboarding/blob/main/onboarding_documents/submissions.md)** 🚨 for detailed instructions on how to format, branch, and submit your work. Following these guidelines is crucial for your submissions to be evaluated correctly.\n",
    "\n",
    "### Submission Parameters:\n",
    "* Submission Due Date: `HH:MM AM/PM - DD/MM/YYYY`\n",
    "* The branch name for your repo should be: `assignment-2`\n",
    "* What to submit for this assignment:\n",
    "    * This Jupyter Notebook (assignment_2.ipynb) should be populated and should be the only change in your pull request.\n",
    "* What the pull request link should look like for this assignment: `https://github.com/<your_github_username>/algorithms_and_data_structures/pull/<pr_id>`\n",
    "    * Open a private window in your browser. Copy and paste the link to your pull request into the address bar. Make sure you can see your pull request properly. This helps the technical facilitator and learning support staff review your submission easily.\n",
    "\n",
    "Checklist:\n",
    "- [ ] Created a branch with the correct naming convention.\n",
    "- [ ] Ensured that the repository is public.\n",
    "- [ ] Reviewed the PR description guidelines and adhered to them.\n",
    "- [ ] Verify that the link is accessible in a private browser window.\n",
    "\n",
    "If you encounter any difficulties or have questions, please don't hesitate to reach out to our team via our Slack at `#cohort-3-help`. Our Technical Facilitators and Learning Support staff are here to help you navigate any challenges.\n"
   ]
  }
 ],
 "metadata": {
  "kernelspec": {
   "display_name": "dsi_participant",
   "language": "python",
   "name": "python3"
  },
  "language_info": {
   "codemirror_mode": {
    "name": "ipython",
    "version": 3
   },
   "file_extension": ".py",
   "mimetype": "text/x-python",
   "name": "python",
   "nbconvert_exporter": "python",
   "pygments_lexer": "ipython3",
   "version": "3.9.18"
  }
 },
 "nbformat": 4,
 "nbformat_minor": 2
}
